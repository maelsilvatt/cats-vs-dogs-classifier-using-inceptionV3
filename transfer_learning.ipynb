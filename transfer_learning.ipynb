{
  "nbformat": 4,
  "nbformat_minor": 0,
  "metadata": {
    "colab": {
      "provenance": []
    },
    "kernelspec": {
      "name": "python3",
      "display_name": "Python 3"
    },
    "gpuClass": "standard",
    "accelerator": "GPU"
  },
  "cells": [
    {
      "cell_type": "code",
      "source": [
        "import os\n",
        "import zipfile\n",
        "import tensorflow as tf\n",
        "import matplotlib.pyplot as plt\n",
        "from tensorflow.keras import layers\n",
        "from tensorflow.keras.optimizers import RMSprop\n",
        "from tensorflow.keras.applications.inception_v3 import InceptionV3\n",
        "from tensorflow.keras.preprocessing.image import ImageDataGenerator"
      ],
      "metadata": {
        "id": "-4GWEkOsJ19S"
      },
      "execution_count": 1,
      "outputs": []
    },
    {
      "metadata": {
        "id": "8OGRcLNwYoZu",
        "colab": {
          "base_uri": "https://localhost:8080/"
        },
        "outputId": "e6066f27-23c1-4d49-98c5-3e820e610cbb"
      },
      "cell_type": "code",
      "source": [
        "# Download the dataset\n",
        "!wget --no-check-certificate \\\n",
        "    https://storage.googleapis.com/mledu-datasets/cats_and_dogs_filtered.zip \\\n",
        "    -O /tmp/cats_and_dogs_filtered.zip"
      ],
      "execution_count": 2,
      "outputs": [
        {
          "output_type": "stream",
          "name": "stdout",
          "text": [
            "--2023-02-21 02:08:43--  https://storage.googleapis.com/mledu-datasets/cats_and_dogs_filtered.zip\n",
            "Resolving storage.googleapis.com (storage.googleapis.com)... 142.251.10.128, 142.251.12.128, 172.217.194.128, ...\n",
            "Connecting to storage.googleapis.com (storage.googleapis.com)|142.251.10.128|:443... connected.\n",
            "HTTP request sent, awaiting response... 200 OK\n",
            "Length: 68606236 (65M) [application/zip]\n",
            "Saving to: ‘/tmp/cats_and_dogs_filtered.zip’\n",
            "\n",
            "/tmp/cats_and_dogs_ 100%[===================>]  65.43M  21.0MB/s    in 3.8s    \n",
            "\n",
            "2023-02-21 02:08:47 (17.3 MB/s) - ‘/tmp/cats_and_dogs_filtered.zip’ saved [68606236/68606236]\n",
            "\n"
          ]
        }
      ]
    },
    {
      "cell_type": "code",
      "source": [
        "local_zip = '/tmp/cats_and_dogs_filtered.zip'\n",
        "zip_ref = zipfile.ZipFile(local_zip, 'r')\n",
        "zip_ref.extractall('/tmp')\n",
        "zip_ref.close()\n",
        "\n",
        "base_dir = '/tmp/cats_and_dogs_filtered'\n",
        "train_dir = os.path.join(base_dir, 'train')\n",
        "validation_dir = os.path.join(base_dir, 'validation')\n",
        "\n",
        "# Training cat pictures path\n",
        "train_cats_dir = os.path.join(train_dir, 'cats')\n",
        "\n",
        "# Training dog pictures path\n",
        "train_dogs_dir = os.path.join(train_dir, 'dogs')\n",
        "\n",
        "# Validation cat pictures path\n",
        "validation_cats_dir = os.path.join(validation_dir, 'cats')\n",
        "\n",
        "# Validation dog pictures path\n",
        "validation_dogs_dir = os.path.join(validation_dir, 'dogs')"
      ],
      "metadata": {
        "id": "LNGMjRHLKWdd"
      },
      "execution_count": 3,
      "outputs": []
    },
    {
      "metadata": {
        "id": "A1T1Joq7YoZz",
        "colab": {
          "base_uri": "https://localhost:8080/"
        },
        "outputId": "a7e7d757-bff0-4e65-96d0-81cbce771f7b"
      },
      "cell_type": "code",
      "source": [
        "# helper function to load image and return it and input vector\n",
        "pre_trained_model = InceptionV3(input_shape = (150, 150, 3),\n",
        "                                include_top = False,  \n",
        "                                weights = 'imagenet')"
      ],
      "execution_count": 4,
      "outputs": [
        {
          "output_type": "stream",
          "name": "stdout",
          "text": [
            "Downloading data from https://storage.googleapis.com/tensorflow/keras-applications/inception_v3/inception_v3_weights_tf_dim_ordering_tf_kernels_notop.h5\n",
            "87910968/87910968 [==============================] - 5s 0us/step\n"
          ]
        }
      ]
    },
    {
      "metadata": {
        "id": "5nAUr-ooYoZ4"
      },
      "cell_type": "code",
      "source": [
        "# freeze all layers\n",
        "for layer in pre_trained_model.layers:\n",
        "  layer.trainable = False     "
      ],
      "execution_count": 5,
      "outputs": []
    },
    {
      "metadata": {
        "id": "5vGeJK55YoZ8"
      },
      "cell_type": "code",
      "source": [
        "from tensorflow.keras.optimizers import RMSprop\n",
        "\n",
        "# Flatten output layer to 1 dimension\n",
        "x = layers.Flatten()(pre_trained_model.output)\n",
        "# Add a fully connected layer with 1,024 hidden units and ReLU activation\n",
        "x = layers.Dense(1024, activation='relu')(x)\n",
        "# Add a dropout rate of 0.2\n",
        "x = layers.Dropout(0.2)(x)\n",
        "# Add a final sigmoid layer for classification\n",
        "x = layers.Dense (1, activation='sigmoid')(x)\n",
        "\n",
        "from tensorflow.keras import Model\n",
        "model = Model(pre_trained_model.input, x)\n",
        "\n",
        "model.compile(optimizer = RMSprop(learning_rate=0.0001),\n",
        "              loss = 'binary_crossentropy',\n",
        "              metrics = ['acc'])"
      ],
      "execution_count": 8,
      "outputs": []
    },
    {
      "cell_type": "code",
      "source": [
        "# Add our data-augmentation parameters to ImageDatagenerator\n",
        "train_datagen = ImageDataGenerator(rescale=1./255,\n",
        "                                  rotation_range=40,\n",
        "                                  width_shift_range=0.2,\n",
        "                                  height_shift_range=0.2,\n",
        "                                  shear_range=0.2,\n",
        "                                  zoom_range=0.2,\n",
        "                                  horizontal_flip=True,\n",
        "                                  fill_mode='nearest')\n",
        "\n",
        "test_datagen = ImageDataGenerator(rescale = 1.0/255.)\n",
        "\n",
        "# Flow training images in batches of 20 using train_datagen generator\n",
        "train_generator = train_datagen.flow_from_directory(train_dir,\n",
        "                                                    batch_size = 20,\n",
        "                                                    class_mode = 'binary',\n",
        "                                                    target_size = (150, 150))\n",
        "\n",
        "# Flow validation images in batches of 20 using test_datagen generator\n",
        "validation_generator = train_datagen.flow_from_directory(validation_dir,\n",
        "                                                        batch_size = 20,\n",
        "                                                        class_mode = 'binary',\n",
        "                                                        target_size = (150, 150))"
      ],
      "metadata": {
        "colab": {
          "base_uri": "https://localhost:8080/"
        },
        "id": "IkrDqGuxJmqR",
        "outputId": "5ef0c99a-a56a-4d97-cf4d-dc4831651582"
      },
      "execution_count": 9,
      "outputs": [
        {
          "output_type": "stream",
          "name": "stdout",
          "text": [
            "Found 2000 images belonging to 2 classes.\n",
            "Found 1000 images belonging to 2 classes.\n"
          ]
        }
      ]
    },
    {
      "cell_type": "code",
      "source": [
        "# training\n",
        "history = model.fit(train_generator,\n",
        "                    validation_data = validation_generator,\n",
        "                    steps_per_epoch = 100,\n",
        "                    epochs = 30,\n",
        "                    validation_steps = 50,\n",
        "                    verbose = 2)"
      ],
      "metadata": {
        "colab": {
          "base_uri": "https://localhost:8080/"
        },
        "id": "dXByTUwjNPDi",
        "outputId": "0e459533-bae0-4481-cb59-b6dc4e473b6f"
      },
      "execution_count": 10,
      "outputs": [
        {
          "output_type": "stream",
          "name": "stdout",
          "text": [
            "Epoch 1/30\n",
            "100/100 - 39s - loss: 1.0443 - acc: 0.8350 - val_loss: 0.8164 - val_acc: 0.7710 - 39s/epoch - 385ms/step\n",
            "Epoch 2/30\n",
            "100/100 - 25s - loss: 0.3963 - acc: 0.8855 - val_loss: 0.2974 - val_acc: 0.9080 - 25s/epoch - 250ms/step\n",
            "Epoch 3/30\n",
            "100/100 - 38s - loss: 0.2584 - acc: 0.9140 - val_loss: 0.2049 - val_acc: 0.9320 - 38s/epoch - 378ms/step\n",
            "Epoch 4/30\n",
            "100/100 - 32s - loss: 0.2571 - acc: 0.9150 - val_loss: 0.1696 - val_acc: 0.9390 - 32s/epoch - 323ms/step\n",
            "Epoch 5/30\n",
            "100/100 - 36s - loss: 0.2577 - acc: 0.9195 - val_loss: 0.2913 - val_acc: 0.9130 - 36s/epoch - 358ms/step\n",
            "Epoch 6/30\n",
            "100/100 - 45s - loss: 0.2513 - acc: 0.9190 - val_loss: 0.1785 - val_acc: 0.9330 - 45s/epoch - 449ms/step\n",
            "Epoch 7/30\n",
            "100/100 - 34s - loss: 0.2326 - acc: 0.9195 - val_loss: 0.2058 - val_acc: 0.9360 - 34s/epoch - 337ms/step\n",
            "Epoch 8/30\n",
            "100/100 - 32s - loss: 0.1970 - acc: 0.9285 - val_loss: 0.2100 - val_acc: 0.9320 - 32s/epoch - 322ms/step\n",
            "Epoch 9/30\n",
            "100/100 - 25s - loss: 0.2111 - acc: 0.9260 - val_loss: 0.2091 - val_acc: 0.9240 - 25s/epoch - 248ms/step\n",
            "Epoch 10/30\n",
            "100/100 - 25s - loss: 0.1925 - acc: 0.9290 - val_loss: 0.1841 - val_acc: 0.9320 - 25s/epoch - 254ms/step\n",
            "Epoch 11/30\n",
            "100/100 - 25s - loss: 0.1916 - acc: 0.9370 - val_loss: 0.2189 - val_acc: 0.9300 - 25s/epoch - 252ms/step\n",
            "Epoch 12/30\n",
            "100/100 - 25s - loss: 0.2064 - acc: 0.9350 - val_loss: 0.2104 - val_acc: 0.9200 - 25s/epoch - 255ms/step\n",
            "Epoch 13/30\n",
            "100/100 - 26s - loss: 0.1814 - acc: 0.9460 - val_loss: 0.2100 - val_acc: 0.9350 - 26s/epoch - 256ms/step\n",
            "Epoch 14/30\n",
            "100/100 - 28s - loss: 0.1782 - acc: 0.9405 - val_loss: 0.2585 - val_acc: 0.9160 - 28s/epoch - 282ms/step\n",
            "Epoch 15/30\n",
            "100/100 - 24s - loss: 0.1755 - acc: 0.9365 - val_loss: 0.1928 - val_acc: 0.9230 - 24s/epoch - 245ms/step\n",
            "Epoch 16/30\n",
            "100/100 - 26s - loss: 0.1532 - acc: 0.9475 - val_loss: 0.2062 - val_acc: 0.9300 - 26s/epoch - 263ms/step\n",
            "Epoch 17/30\n",
            "100/100 - 24s - loss: 0.1681 - acc: 0.9485 - val_loss: 0.2478 - val_acc: 0.9130 - 24s/epoch - 243ms/step\n",
            "Epoch 18/30\n",
            "100/100 - 24s - loss: 0.1378 - acc: 0.9455 - val_loss: 0.3941 - val_acc: 0.8960 - 24s/epoch - 243ms/step\n",
            "Epoch 19/30\n",
            "100/100 - 24s - loss: 0.1467 - acc: 0.9475 - val_loss: 0.3367 - val_acc: 0.9050 - 24s/epoch - 245ms/step\n",
            "Epoch 20/30\n",
            "100/100 - 24s - loss: 0.1688 - acc: 0.9410 - val_loss: 0.2578 - val_acc: 0.9190 - 24s/epoch - 243ms/step\n",
            "Epoch 21/30\n",
            "100/100 - 24s - loss: 0.1511 - acc: 0.9495 - val_loss: 0.1961 - val_acc: 0.9300 - 24s/epoch - 244ms/step\n",
            "Epoch 22/30\n",
            "100/100 - 28s - loss: 0.1610 - acc: 0.9510 - val_loss: 0.1671 - val_acc: 0.9380 - 28s/epoch - 278ms/step\n",
            "Epoch 23/30\n",
            "100/100 - 27s - loss: 0.1466 - acc: 0.9480 - val_loss: 0.2245 - val_acc: 0.9360 - 27s/epoch - 274ms/step\n",
            "Epoch 24/30\n",
            "100/100 - 25s - loss: 0.1297 - acc: 0.9540 - val_loss: 0.7591 - val_acc: 0.8460 - 25s/epoch - 245ms/step\n",
            "Epoch 25/30\n",
            "100/100 - 28s - loss: 0.1462 - acc: 0.9500 - val_loss: 0.1866 - val_acc: 0.9370 - 28s/epoch - 279ms/step\n",
            "Epoch 26/30\n",
            "100/100 - 24s - loss: 0.1104 - acc: 0.9610 - val_loss: 0.2311 - val_acc: 0.9310 - 24s/epoch - 241ms/step\n",
            "Epoch 27/30\n",
            "100/100 - 24s - loss: 0.1417 - acc: 0.9540 - val_loss: 0.1975 - val_acc: 0.9300 - 24s/epoch - 239ms/step\n",
            "Epoch 28/30\n",
            "100/100 - 24s - loss: 0.1518 - acc: 0.9510 - val_loss: 0.2224 - val_acc: 0.9300 - 24s/epoch - 239ms/step\n",
            "Epoch 29/30\n",
            "100/100 - 24s - loss: 0.1267 - acc: 0.9550 - val_loss: 0.3156 - val_acc: 0.9140 - 24s/epoch - 236ms/step\n",
            "Epoch 30/30\n",
            "100/100 - 25s - loss: 0.1435 - acc: 0.9530 - val_loss: 0.2213 - val_acc: 0.9340 - 25s/epoch - 250ms/step\n"
          ]
        }
      ]
    },
    {
      "cell_type": "code",
      "source": [
        "acc = history.history['acc']\n",
        "val_acc = history.history['val_acc']\n",
        "loss = history.history['loss']\n",
        "val_loss = history.history['val_loss']\n",
        "\n",
        "epochs = range(len(acc))\n",
        "\n",
        "plt.plot(epochs, acc, 'bo', label='Training accuracy')\n",
        "plt.plot(epochs, val_acc, 'b', label='Validation accuracy')\n",
        "plt.title('Training vs validation accuracy')\n",
        "\n",
        "plt.figure()\n",
        "plt.plot(epochs, loss, 'bo', label='Training loss')\n",
        "plt.plot(epochs, val_loss, 'b', label='Validation loss')\n",
        "plt.title('Training vs validation loss')\n",
        "plt.legend()\n",
        "\n",
        "plt.show()"
      ],
      "metadata": {
        "colab": {
          "base_uri": "https://localhost:8080/",
          "height": 545
        },
        "id": "qn0dtjQOyEXH",
        "outputId": "c2bd77f2-753f-4ce2-f39a-396706e02f28"
      },
      "execution_count": 11,
      "outputs": [
        {
          "output_type": "display_data",
          "data": {
            "text/plain": [
              "<Figure size 432x288 with 1 Axes>"
            ],
            "image/png": "[encoded data removed]"
          },
          "metadata": {
            "needs_background": "light"
          }
        },
        {
          "output_type": "display_data",
          "data": {
            "text/plain": [
              "<Figure size 432x288 with 1 Axes>"
            ],
            "image/png": "[encoded data removed]"
          },
          "metadata": {
            "needs_background": "light"
          }
        }
      ]
    }
  ]
}